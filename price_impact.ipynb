{
 "cells": [
  {
   "cell_type": "code",
   "execution_count": 1,
   "metadata": {},
   "outputs": [],
   "source": [
    "from src.api.flipside_crypto import FlipsideCrypto\n",
    "from src.misc.data import format_dtypes\n",
    "\n",
    "import pandas as pd\n",
    "from matplotlib import pyplot as plt"
   ]
  },
  {
   "cell_type": "code",
   "execution_count": 2,
   "metadata": {},
   "outputs": [],
   "source": [
    "ts = 1672834013\n",
    "pair = \"WBTC-ETH\""
   ]
  },
  {
   "cell_type": "code",
   "execution_count": 4,
   "metadata": {},
   "outputs": [],
   "source": [
    "flipside = FlipsideCrypto(\"249f0e62-a575-4ddb-8ccd-b7618eb9d766\")\n",
    "syncs_and_swaps = flipside.get_syncs_and_swaps(\"uniswap-v2\", pair, ts, amount=2000)"
   ]
  },
  {
   "cell_type": "code",
   "execution_count": 5,
   "metadata": {},
   "outputs": [
    {
     "data": {
      "text/html": [
       "<div>\n",
       "<style scoped>\n",
       "    .dataframe tbody tr th:only-of-type {\n",
       "        vertical-align: middle;\n",
       "    }\n",
       "\n",
       "    .dataframe tbody tr th {\n",
       "        vertical-align: top;\n",
       "    }\n",
       "\n",
       "    .dataframe thead th {\n",
       "        text-align: right;\n",
       "    }\n",
       "</style>\n",
       "<table border=\"1\" class=\"dataframe\">\n",
       "  <thead>\n",
       "    <tr style=\"text-align: right;\">\n",
       "      <th></th>\n",
       "      <th>_log_id</th>\n",
       "      <th>block_number</th>\n",
       "      <th>block_timestamp</th>\n",
       "      <th>tx_hash</th>\n",
       "      <th>event_index</th>\n",
       "      <th>event_name</th>\n",
       "      <th>event_inputs</th>\n",
       "    </tr>\n",
       "  </thead>\n",
       "  <tbody>\n",
       "    <tr>\n",
       "      <th>0</th>\n",
       "      <td>0x0c9a6a6610aa20a0d1a8dae3a1e15e6db698acd8444b...</td>\n",
       "      <td>16333918</td>\n",
       "      <td>2023-01-04 14:07:23.000</td>\n",
       "      <td>0x0c9a6a6610aa20a0d1a8dae3a1e15e6db698acd8444b...</td>\n",
       "      <td>194</td>\n",
       "      <td>Sync</td>\n",
       "      <td>{'reserve0': '42434741500318', 'reserve1': '33...</td>\n",
       "    </tr>\n",
       "    <tr>\n",
       "      <th>1</th>\n",
       "      <td>0x0c9a6a6610aa20a0d1a8dae3a1e15e6db698acd8444b...</td>\n",
       "      <td>16333918</td>\n",
       "      <td>2023-01-04 14:07:23.000</td>\n",
       "      <td>0x0c9a6a6610aa20a0d1a8dae3a1e15e6db698acd8444b...</td>\n",
       "      <td>195</td>\n",
       "      <td>Swap</td>\n",
       "      <td>{'amount0In': '0', 'amount0Out': '306550903', ...</td>\n",
       "    </tr>\n",
       "    <tr>\n",
       "      <th>2</th>\n",
       "      <td>0xcb934997b3ed72e57a11a2021cd99a0e2a7107fbf590...</td>\n",
       "      <td>16333921</td>\n",
       "      <td>2023-01-04 14:07:59.000</td>\n",
       "      <td>0xcb934997b3ed72e57a11a2021cd99a0e2a7107fbf590...</td>\n",
       "      <td>2</td>\n",
       "      <td>Sync</td>\n",
       "      <td>{'reserve0': '42435324855117', 'reserve1': '33...</td>\n",
       "    </tr>\n",
       "    <tr>\n",
       "      <th>3</th>\n",
       "      <td>0xcb934997b3ed72e57a11a2021cd99a0e2a7107fbf590...</td>\n",
       "      <td>16333921</td>\n",
       "      <td>2023-01-04 14:07:59.000</td>\n",
       "      <td>0xcb934997b3ed72e57a11a2021cd99a0e2a7107fbf590...</td>\n",
       "      <td>3</td>\n",
       "      <td>Swap</td>\n",
       "      <td>{'amount0In': '583354799', 'amount0Out': '0', ...</td>\n",
       "    </tr>\n",
       "    <tr>\n",
       "      <th>4</th>\n",
       "      <td>0x938359af1763c6791a0ad94c0e8541bf9e9528b69bb0...</td>\n",
       "      <td>16333928</td>\n",
       "      <td>2023-01-04 14:09:23.000</td>\n",
       "      <td>0x938359af1763c6791a0ad94c0e8541bf9e9528b69bb0...</td>\n",
       "      <td>16</td>\n",
       "      <td>Sync</td>\n",
       "      <td>{'reserve0': '42434935939516', 'reserve1': '33...</td>\n",
       "    </tr>\n",
       "  </tbody>\n",
       "</table>\n",
       "</div>"
      ],
      "text/plain": [
       "                                             _log_id  block_number  \\\n",
       "0  0x0c9a6a6610aa20a0d1a8dae3a1e15e6db698acd8444b...      16333918   \n",
       "1  0x0c9a6a6610aa20a0d1a8dae3a1e15e6db698acd8444b...      16333918   \n",
       "2  0xcb934997b3ed72e57a11a2021cd99a0e2a7107fbf590...      16333921   \n",
       "3  0xcb934997b3ed72e57a11a2021cd99a0e2a7107fbf590...      16333921   \n",
       "4  0x938359af1763c6791a0ad94c0e8541bf9e9528b69bb0...      16333928   \n",
       "\n",
       "           block_timestamp                                            tx_hash  \\\n",
       "0  2023-01-04 14:07:23.000  0x0c9a6a6610aa20a0d1a8dae3a1e15e6db698acd8444b...   \n",
       "1  2023-01-04 14:07:23.000  0x0c9a6a6610aa20a0d1a8dae3a1e15e6db698acd8444b...   \n",
       "2  2023-01-04 14:07:59.000  0xcb934997b3ed72e57a11a2021cd99a0e2a7107fbf590...   \n",
       "3  2023-01-04 14:07:59.000  0xcb934997b3ed72e57a11a2021cd99a0e2a7107fbf590...   \n",
       "4  2023-01-04 14:09:23.000  0x938359af1763c6791a0ad94c0e8541bf9e9528b69bb0...   \n",
       "\n",
       "   event_index event_name                                       event_inputs  \n",
       "0          194       Sync  {'reserve0': '42434741500318', 'reserve1': '33...  \n",
       "1          195       Swap  {'amount0In': '0', 'amount0Out': '306550903', ...  \n",
       "2            2       Sync  {'reserve0': '42435324855117', 'reserve1': '33...  \n",
       "3            3       Swap  {'amount0In': '583354799', 'amount0Out': '0', ...  \n",
       "4           16       Sync  {'reserve0': '42434935939516', 'reserve1': '33...  "
      ]
     },
     "execution_count": 5,
     "metadata": {},
     "output_type": "execute_result"
    }
   ],
   "source": [
    "df = pd.DataFrame(syncs_and_swaps)\n",
    "df.head()"
   ]
  },
  {
   "cell_type": "code",
   "execution_count": 12,
   "metadata": {},
   "outputs": [
    {
     "name": "stderr",
     "output_type": "stream",
     "text": [
      "/var/folders/xv/9qwc_ryj6l98nrg9pnn_zp7h0000gn/T/ipykernel_3230/87332568.py:5: SettingWithCopyWarning: \n",
      "A value is trying to be set on a copy of a slice from a DataFrame.\n",
      "Try using .loc[row_indexer,col_indexer] = value instead\n",
      "\n",
      "See the caveats in the documentation: https://pandas.pydata.org/pandas-docs/stable/user_guide/indexing.html#returning-a-view-versus-a-copy\n",
      "  swaps_df[\"sync_event_index\"] = 0\n",
      "/var/folders/xv/9qwc_ryj6l98nrg9pnn_zp7h0000gn/T/ipykernel_3230/87332568.py:6: SettingWithCopyWarning: \n",
      "A value is trying to be set on a copy of a slice from a DataFrame.\n",
      "Try using .loc[row_indexer,col_indexer] = value instead\n",
      "\n",
      "See the caveats in the documentation: https://pandas.pydata.org/pandas-docs/stable/user_guide/indexing.html#returning-a-view-versus-a-copy\n",
      "  swaps_df[\"sync_event_index\"] = swaps_df[\"event_index\"] - 1\n"
     ]
    }
   ],
   "source": [
    "syncs_df = df[df[\"event_name\"] == \"Sync\"]\n",
    "swaps_df = df[df[\"event_name\"] == \"Swap\"]\n",
    "\n",
    "# for each swaps wand to merge the previous sync (same tx_hash, event_index - 1)\n",
    "swaps_df[\"sync_event_index\"] = 0\n",
    "swaps_df[\"sync_event_index\"] = swaps_df[\"event_index\"] - 1\n"
   ]
  },
  {
   "cell_type": "code",
   "execution_count": 105,
   "metadata": {},
   "outputs": [
    {
     "data": {
      "text/html": [
       "<div>\n",
       "<style scoped>\n",
       "    .dataframe tbody tr th:only-of-type {\n",
       "        vertical-align: middle;\n",
       "    }\n",
       "\n",
       "    .dataframe tbody tr th {\n",
       "        vertical-align: top;\n",
       "    }\n",
       "\n",
       "    .dataframe thead th {\n",
       "        text-align: right;\n",
       "    }\n",
       "</style>\n",
       "<table border=\"1\" class=\"dataframe\">\n",
       "  <thead>\n",
       "    <tr style=\"text-align: right;\">\n",
       "      <th></th>\n",
       "      <th>_log_id</th>\n",
       "      <th>block_number</th>\n",
       "      <th>block_timestamp</th>\n",
       "      <th>tx_hash</th>\n",
       "      <th>event_index_x</th>\n",
       "      <th>event_name</th>\n",
       "      <th>event_inputs_x</th>\n",
       "      <th>sync_event_index</th>\n",
       "      <th>event_index_y</th>\n",
       "      <th>event_inputs_y</th>\n",
       "      <th>amount0In</th>\n",
       "      <th>amount0Out</th>\n",
       "      <th>amount1In</th>\n",
       "      <th>amount1Out</th>\n",
       "      <th>sender</th>\n",
       "      <th>to</th>\n",
       "      <th>reserve0</th>\n",
       "      <th>reserve1</th>\n",
       "    </tr>\n",
       "  </thead>\n",
       "  <tbody>\n",
       "    <tr>\n",
       "      <th>0</th>\n",
       "      <td>0x0c9a6a6610aa20a0d1a8dae3a1e15e6db698acd8444b...</td>\n",
       "      <td>16333918</td>\n",
       "      <td>2023-01-04 14:07:23.000</td>\n",
       "      <td>0x0c9a6a6610aa20a0d1a8dae3a1e15e6db698acd8444b...</td>\n",
       "      <td>195</td>\n",
       "      <td>Swap</td>\n",
       "      <td>{'amount0In': '0', 'amount0Out': '306550903', ...</td>\n",
       "      <td>194</td>\n",
       "      <td>194</td>\n",
       "      <td>{'reserve0': '42434741500318', 'reserve1': '33...</td>\n",
       "      <td>0</td>\n",
       "      <td>306550903</td>\n",
       "      <td>245109969116886778</td>\n",
       "      <td>0</td>\n",
       "      <td>0x1111111254eeb25477b68fb85ed929f73a960582</td>\n",
       "      <td>0x74de5d4fcbf63e00296fd95d33236b9794016631</td>\n",
       "      <td>42434741500318</td>\n",
       "      <td>33828149486051957946193</td>\n",
       "    </tr>\n",
       "    <tr>\n",
       "      <th>1</th>\n",
       "      <td>0xcb934997b3ed72e57a11a2021cd99a0e2a7107fbf590...</td>\n",
       "      <td>16333921</td>\n",
       "      <td>2023-01-04 14:07:59.000</td>\n",
       "      <td>0xcb934997b3ed72e57a11a2021cd99a0e2a7107fbf590...</td>\n",
       "      <td>3</td>\n",
       "      <td>Swap</td>\n",
       "      <td>{'amount0In': '583354799', 'amount0Out': '0', ...</td>\n",
       "      <td>2</td>\n",
       "      <td>2</td>\n",
       "      <td>{'reserve0': '42435324855117', 'reserve1': '33...</td>\n",
       "      <td>583354799</td>\n",
       "      <td>0</td>\n",
       "      <td>0</td>\n",
       "      <td>463637612549270337</td>\n",
       "      <td>0x7a250d5630b4cf539739df2c5dacb4c659f2488d</td>\n",
       "      <td>0xf29450019834d7874b4e306275c4334326ac27f1</td>\n",
       "      <td>42435324855117</td>\n",
       "      <td>33827685848439408675856</td>\n",
       "    </tr>\n",
       "    <tr>\n",
       "      <th>2</th>\n",
       "      <td>0x938359af1763c6791a0ad94c0e8541bf9e9528b69bb0...</td>\n",
       "      <td>16333928</td>\n",
       "      <td>2023-01-04 14:09:23.000</td>\n",
       "      <td>0x938359af1763c6791a0ad94c0e8541bf9e9528b69bb0...</td>\n",
       "      <td>17</td>\n",
       "      <td>Swap</td>\n",
       "      <td>{'amount0In': '0', 'amount0Out': '388915601', ...</td>\n",
       "      <td>16</td>\n",
       "      <td>16</td>\n",
       "      <td>{'reserve0': '42434935939516', 'reserve1': '33...</td>\n",
       "      <td>0</td>\n",
       "      <td>388915601</td>\n",
       "      <td>310963163089744374</td>\n",
       "      <td>0</td>\n",
       "      <td>0x68b3465833fb72a70ecdf485e0e4c7bd8665fc45</td>\n",
       "      <td>0xa72a482e7c667e7db32a2b7171e9e3e97f2c65c5</td>\n",
       "      <td>42434935939516</td>\n",
       "      <td>33827996811602498420230</td>\n",
       "    </tr>\n",
       "    <tr>\n",
       "      <th>3</th>\n",
       "      <td>0x783d49ea9d48039c6254497a1a889d1a3a565397db19...</td>\n",
       "      <td>16333936</td>\n",
       "      <td>2023-01-04 14:10:59.000</td>\n",
       "      <td>0x783d49ea9d48039c6254497a1a889d1a3a565397db19...</td>\n",
       "      <td>129</td>\n",
       "      <td>Swap</td>\n",
       "      <td>{'amount0In': '1039282967', 'amount0Out': '0',...</td>\n",
       "      <td>128</td>\n",
       "      <td>128</td>\n",
       "      <td>{'reserve0': '42435975222483', 'reserve1': '33...</td>\n",
       "      <td>1039282967</td>\n",
       "      <td>0</td>\n",
       "      <td>0</td>\n",
       "      <td>825982970246676825</td>\n",
       "      <td>0x7a250d5630b4cf539739df2c5dacb4c659f2488d</td>\n",
       "      <td>0xbe1737dae50f225b9480d68ee8f889e81d364615</td>\n",
       "      <td>42435975222483</td>\n",
       "      <td>33827170828632251743405</td>\n",
       "    </tr>\n",
       "    <tr>\n",
       "      <th>4</th>\n",
       "      <td>0xd3fe02abaf9dd15a79291b2f13f4b202f17301b2108e...</td>\n",
       "      <td>16333936</td>\n",
       "      <td>2023-01-04 14:10:59.000</td>\n",
       "      <td>0xd3fe02abaf9dd15a79291b2f13f4b202f17301b2108e...</td>\n",
       "      <td>517</td>\n",
       "      <td>Swap</td>\n",
       "      <td>{'amount0In': '0', 'amount0Out': '54484329', '...</td>\n",
       "      <td>516</td>\n",
       "      <td>516</td>\n",
       "      <td>{'reserve0': '42435920738154', 'reserve1': '33...</td>\n",
       "      <td>0</td>\n",
       "      <td>54484329</td>\n",
       "      <td>43562069394324489</td>\n",
       "      <td>0</td>\n",
       "      <td>0x68b3465833fb72a70ecdf485e0e4c7bd8665fc45</td>\n",
       "      <td>0x9d6f8ec99dc5c38b4d9915419f92a4808c6d89d1</td>\n",
       "      <td>42435920738154</td>\n",
       "      <td>33827214390701646067894</td>\n",
       "    </tr>\n",
       "  </tbody>\n",
       "</table>\n",
       "</div>"
      ],
      "text/plain": [
       "                                             _log_id  block_number  \\\n",
       "0  0x0c9a6a6610aa20a0d1a8dae3a1e15e6db698acd8444b...      16333918   \n",
       "1  0xcb934997b3ed72e57a11a2021cd99a0e2a7107fbf590...      16333921   \n",
       "2  0x938359af1763c6791a0ad94c0e8541bf9e9528b69bb0...      16333928   \n",
       "3  0x783d49ea9d48039c6254497a1a889d1a3a565397db19...      16333936   \n",
       "4  0xd3fe02abaf9dd15a79291b2f13f4b202f17301b2108e...      16333936   \n",
       "\n",
       "           block_timestamp                                            tx_hash  \\\n",
       "0  2023-01-04 14:07:23.000  0x0c9a6a6610aa20a0d1a8dae3a1e15e6db698acd8444b...   \n",
       "1  2023-01-04 14:07:59.000  0xcb934997b3ed72e57a11a2021cd99a0e2a7107fbf590...   \n",
       "2  2023-01-04 14:09:23.000  0x938359af1763c6791a0ad94c0e8541bf9e9528b69bb0...   \n",
       "3  2023-01-04 14:10:59.000  0x783d49ea9d48039c6254497a1a889d1a3a565397db19...   \n",
       "4  2023-01-04 14:10:59.000  0xd3fe02abaf9dd15a79291b2f13f4b202f17301b2108e...   \n",
       "\n",
       "   event_index_x event_name  \\\n",
       "0            195       Swap   \n",
       "1              3       Swap   \n",
       "2             17       Swap   \n",
       "3            129       Swap   \n",
       "4            517       Swap   \n",
       "\n",
       "                                      event_inputs_x  sync_event_index  \\\n",
       "0  {'amount0In': '0', 'amount0Out': '306550903', ...               194   \n",
       "1  {'amount0In': '583354799', 'amount0Out': '0', ...                 2   \n",
       "2  {'amount0In': '0', 'amount0Out': '388915601', ...                16   \n",
       "3  {'amount0In': '1039282967', 'amount0Out': '0',...               128   \n",
       "4  {'amount0In': '0', 'amount0Out': '54484329', '...               516   \n",
       "\n",
       "   event_index_y                                     event_inputs_y  \\\n",
       "0            194  {'reserve0': '42434741500318', 'reserve1': '33...   \n",
       "1              2  {'reserve0': '42435324855117', 'reserve1': '33...   \n",
       "2             16  {'reserve0': '42434935939516', 'reserve1': '33...   \n",
       "3            128  {'reserve0': '42435975222483', 'reserve1': '33...   \n",
       "4            516  {'reserve0': '42435920738154', 'reserve1': '33...   \n",
       "\n",
       "    amount0In  amount0Out           amount1In          amount1Out  \\\n",
       "0           0   306550903  245109969116886778                   0   \n",
       "1   583354799           0                   0  463637612549270337   \n",
       "2           0   388915601  310963163089744374                   0   \n",
       "3  1039282967           0                   0  825982970246676825   \n",
       "4           0    54484329   43562069394324489                   0   \n",
       "\n",
       "                                       sender  \\\n",
       "0  0x1111111254eeb25477b68fb85ed929f73a960582   \n",
       "1  0x7a250d5630b4cf539739df2c5dacb4c659f2488d   \n",
       "2  0x68b3465833fb72a70ecdf485e0e4c7bd8665fc45   \n",
       "3  0x7a250d5630b4cf539739df2c5dacb4c659f2488d   \n",
       "4  0x68b3465833fb72a70ecdf485e0e4c7bd8665fc45   \n",
       "\n",
       "                                           to        reserve0  \\\n",
       "0  0x74de5d4fcbf63e00296fd95d33236b9794016631  42434741500318   \n",
       "1  0xf29450019834d7874b4e306275c4334326ac27f1  42435324855117   \n",
       "2  0xa72a482e7c667e7db32a2b7171e9e3e97f2c65c5  42434935939516   \n",
       "3  0xbe1737dae50f225b9480d68ee8f889e81d364615  42435975222483   \n",
       "4  0x9d6f8ec99dc5c38b4d9915419f92a4808c6d89d1  42435920738154   \n",
       "\n",
       "                  reserve1  \n",
       "0  33828149486051957946193  \n",
       "1  33827685848439408675856  \n",
       "2  33827996811602498420230  \n",
       "3  33827170828632251743405  \n",
       "4  33827214390701646067894  "
      ]
     },
     "execution_count": 105,
     "metadata": {},
     "output_type": "execute_result"
    }
   ],
   "source": [
    "df = pd.merge(swaps_df, syncs_df[[\"tx_hash\", \"event_index\", \"event_inputs\"]], left_on=[\"tx_hash\", \"sync_event_index\"], right_on=[\"tx_hash\", \"event_index\"], how=\"left\")\n",
    "df = format_dtypes(df, {\"event_inputs_x\": dict, \"event_inputs_y\": dict})\n",
    "dtypes =  {\n",
    "    \"amount0In\": int, \n",
    "    \"amount0Out\": int, \n",
    "    \"amount1In\": int, \n",
    "    \"amount1Out\": int,\n",
    "    \"reserve0\": int, \n",
    "    \"reserve1\": int}\n",
    "df = format_dtypes(df, dtypes)\n",
    "df.head()"
   ]
  },
  {
   "cell_type": "code",
   "execution_count": 119,
   "metadata": {},
   "outputs": [
    {
     "name": "stdout",
     "output_type": "stream",
     "text": [
      "4.6866565079288e-05 283.14780518463897\n"
     ]
    }
   ],
   "source": [
    "tradesize_usdc = (df[\"amount1In\"] + df[\"amount1Out\"]) / 10**18\n",
    "print(tradesize_usdc.min(), tradesize_usdc.max())"
   ]
  },
  {
   "cell_type": "code",
   "execution_count": 120,
   "metadata": {},
   "outputs": [
    {
     "name": "stdout",
     "output_type": "stream",
     "text": [
      "0.058912 361500.0\n"
     ]
    }
   ],
   "source": [
    "tradesize_eth = (df[\"amount0In\"] + df[\"amount0Out\"]) / 10**6\n",
    "print(tradesize_eth.min(), tradesize_eth.max())"
   ]
  },
  {
   "cell_type": "code",
   "execution_count": 134,
   "metadata": {},
   "outputs": [
    {
     "data": {
      "text/plain": [
       "<matplotlib.collections.PathCollection at 0x16b2d4d50>"
      ]
     },
     "execution_count": 134,
     "metadata": {},
     "output_type": "execute_result"
    },
    {
     "data": {
      "image/png": "[encoded data removed]",
      "text/plain": [
       "<Figure size 640x480 with 1 Axes>"
      ]
     },
     "metadata": {},
     "output_type": "display_data"
    }
   ],
   "source": [
    "swap_prices = tradesize_eth / tradesize_usdc\n",
    "reserve_prices = ((df[\"reserve0\"] / 10**6) / (df[\"reserve1\"]/ 10**18))\n",
    "plt.scatter(swap_prices.index, swap_prices)\n",
    "plt.scatter(reserve_prices.index, reserve_prices)"
   ]
  },
  {
   "cell_type": "code",
   "execution_count": 132,
   "metadata": {},
   "outputs": [
    {
     "data": {
      "text/plain": [
       "0      1254.421012\n",
       "1      1254.455449\n",
       "2      1254.432421\n",
       "3      1254.493775\n",
       "4      1254.490549\n",
       "          ...     \n",
       "991    1252.359304\n",
       "992    1252.418287\n",
       "993    1252.424185\n",
       "994    1252.391669\n",
       "995    1252.450652\n",
       "Length: 996, dtype: object"
      ]
     },
     "execution_count": 132,
     "metadata": {},
     "output_type": "execute_result"
    }
   ],
   "source": [
    "reserve_prices = ((df[\"reserve0\"] / 10**6) / (df[\"reserve1\"]/ 10**18))\n",
    "reserve_prices"
   ]
  },
  {
   "cell_type": "code",
   "execution_count": 59,
   "metadata": {},
   "outputs": [
    {
     "data": {
      "text/plain": [
       "19225959333123089834"
      ]
     },
     "execution_count": 59,
     "metadata": {},
     "output_type": "execute_result"
    }
   ],
   "source": [
    "int(\"19225959333123089834\")"
   ]
  }
 ],
 "metadata": {
  "kernelspec": {
   "display_name": "venv",
   "language": "python",
   "name": "python3"
  },
  "language_info": {
   "codemirror_mode": {
    "name": "ipython",
    "version": 3
   },
   "file_extension": ".py",
   "mimetype": "text/x-python",
   "name": "python",
   "nbconvert_exporter": "python",
   "pygments_lexer": "ipython3",
   "version": "3.11.1"
  },
  "orig_nbformat": 4,
  "vscode": {
   "interpreter": {
    "hash": "ff3cee21af7dd5e4afc9e78e575e8e47dd4c8e19fc3de97bfee13999ff7c70fc"
   }
  }
 },
 "nbformat": 4,
 "nbformat_minor": 2
}
